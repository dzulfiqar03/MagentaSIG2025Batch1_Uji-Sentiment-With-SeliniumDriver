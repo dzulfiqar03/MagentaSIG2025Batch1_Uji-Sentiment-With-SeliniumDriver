{
 "cells": [
  {
   "cell_type": "markdown",
   "id": "addcc3cb",
   "metadata": {},
   "source": [
    "Sentiment Analysis For Pupuk Competitor Company"
   ]
  },
  {
   "cell_type": "code",
   "execution_count": null,
   "id": "d3563a3b",
   "metadata": {},
   "outputs": [],
   "source": [
    "# main.py\n",
    "from ulasan_netafarm import scrape_netafarm\n",
    "from ulasan_infarm import scrape_infarm\n",
    "from produk_netafarm import scrape_prodnetafarm\n",
    "import pandas as pd\n",
    "import os"
   ]
  },
  {
   "cell_type": "markdown",
   "id": "08b3ef11",
   "metadata": {},
   "source": [
    "Scraping Data Netafarm"
   ]
  },
  {
   "cell_type": "code",
   "execution_count": null,
   "id": "2f3f520e",
   "metadata": {},
   "outputs": [],
   "source": [
    "# Step 1: Ambil data dari Tokopedia\n",
    "data_tokopedia = scrape_netafarm()"
   ]
  },
  {
   "cell_type": "code",
   "execution_count": null,
   "id": "7fd56c97",
   "metadata": {},
   "outputs": [],
   "source": [
    "\n",
    "# Step 2: Lanjut scraping Shopee dan tambahkan ke data yang sama\n",
    "final_data = scrape_infarm(data_tokopedia)\n"
   ]
  },
  {
   "cell_type": "code",
   "execution_count": null,
   "id": "c814b723",
   "metadata": {},
   "outputs": [],
   "source": [
    "\n",
    "produk_netafarm = scrape_prodnetafarm()"
   ]
  },
  {
   "cell_type": "code",
   "execution_count": null,
   "id": "d0b30b7c",
   "metadata": {},
   "outputs": [],
   "source": [
    "df_ulasan = pd.DataFrame(final_data, columns=[\"Produk\", \"Ulasan\", \"Perusahaan\"])\n",
    "print(df_ulasan)"
   ]
  },
  {
   "cell_type": "code",
   "execution_count": null,
   "id": "b3303ed9",
   "metadata": {},
   "outputs": [],
   "source": [
    "df_produk = pd.DataFrame(produk_netafarm, columns=[\"Nama Produk\", \"Harga\"])\n",
    "print(df_produk)"
   ]
  },
  {
   "cell_type": "code",
   "execution_count": null,
   "id": "553231da",
   "metadata": {},
   "outputs": [],
   "source": [
    "downloads_path = os.path.join(os.path.expanduser(\"~\"), \"Downloads\")\n",
    "output_path = os.path.join(downloads_path, \"gabungan_tokopedia_shopee.xlsx\")\n",
    "\n",
    "with pd.ExcelWriter(output_path, engine='xlsxwriter') as writer:\n",
    "    df_ulasan.to_excel(writer, sheet_name='Ulasan', index=False)\n",
    "    df_produk.to_excel(writer, sheet_name='Produk', index=False)\n",
    "\n",
    "print(f\"\\n✅ Semua data berhasil disimpan di: {output_path}\")"
   ]
  },
  {
   "cell_type": "code",
   "execution_count": null,
   "id": "20a2efe4",
   "metadata": {},
   "outputs": [],
   "source": [
    "from classification.preprocessing import classification_preprocessing\n",
    "\n",
    "preprocessing = classification_preprocessing(output_path, df_ulasan, df_produk)\n",
    "print(f\"\\n✅ Preprocessing data berhasil dilakukan\")"
   ]
  },
  {
   "cell_type": "code",
   "execution_count": null,
   "id": "405668fa",
   "metadata": {},
   "outputs": [],
   "source": [
    "from classification.text_classification import textClassification\n",
    "classification = textClassification(output_path, output_path)\n",
    "print(f\"\\n✅ Klasifikasi data berhasil dilakukan\")"
   ]
  }
 ],
 "metadata": {
  "kernelspec": {
   "display_name": ".venv",
   "language": "python",
   "name": "python3"
  },
  "language_info": {
   "codemirror_mode": {
    "name": "ipython",
    "version": 3
   },
   "file_extension": ".py",
   "mimetype": "text/x-python",
   "name": "python",
   "nbconvert_exporter": "python",
   "pygments_lexer": "ipython3",
   "version": "3.9.6"
  }
 },
 "nbformat": 4,
 "nbformat_minor": 5
}
