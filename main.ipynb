{
 "cells": [
  {
   "cell_type": "markdown",
   "id": "addcc3cb",
   "metadata": {},
   "source": [
    "Sentiment Analysis For Pupuk Competitor Company"
   ]
  },
  {
   "cell_type": "code",
   "execution_count": 1,
   "id": "d3563a3b",
   "metadata": {},
   "outputs": [
    {
     "name": "stderr",
     "output_type": "stream",
     "text": [
      "/Users/muhammaddzulfiqar/Downloads/My Document/FIQAR DOCUMENT/Magang/Magenta PT Semen Indonesia 2025/Projek/Uji Sentiment Selenium/.venv/lib/python3.9/site-packages/urllib3/__init__.py:35: NotOpenSSLWarning: urllib3 v2 only supports OpenSSL 1.1.1+, currently the 'ssl' module is compiled with 'LibreSSL 2.8.3'. See: https://github.com/urllib3/urllib3/issues/3020\n",
      "  warnings.warn(\n"
     ]
    }
   ],
   "source": [
    "# main.py\n",
    "from ulasan_netafarm import scrape_netafarm\n",
    "from ulasan_infarm import scrape_infarm\n",
    "from produk_netafarm import scrape_prodnetafarm\n",
    "import pandas as pd\n",
    "import os"
   ]
  },
  {
   "cell_type": "markdown",
   "id": "08b3ef11",
   "metadata": {},
   "source": [
    "Scraping Data Netafarm"
   ]
  },
  {
   "cell_type": "code",
   "execution_count": 2,
   "id": "2f3f520e",
   "metadata": {},
   "outputs": [
    {
     "name": "stdout",
     "output_type": "stream",
     "text": [
      "🚀 Memulai browser...\n",
      "⏳ Menunggu halaman dimuat...\n",
      "[['Tapetool Hand Tying Machine Alat Pengikat Lanjaran Tanaman+Paket Refil', 'Barang sampai dengan baik terima kasih kurir ya  sangat ramah', 'Netafarm'], ['PUPUK CAIR LIQUINOX START B1 ORIGINAL 470ml', 'Udah ke sekian kali order ditoko ini biasanya order pupuk vegetatif/generatif, sekarang vitamin. Pelayanan sangat baik, amanah dan cepat pengirimannya', 'Netafarm'], ['Pupuk NPK PAK TANI Mutiara Biru 16-16-16 Penyubur Tanaman 1 KG Kalium Padi', 'Sesuai pesanan moga jadi langganan terus cepet lagi dah redi', 'Netafarm'], ['Pupuk Meroke SOP - Kemasan 1 kg', 'Sampai tepat waktu wlw beli nya jauh toko nya amanah Kurir langganan sukses selalu', 'Netafarm'], ['TDS Meter Digital - Alat Ukur PPM Air & Hidroponik', 'Belum mampu ukur air asin akuarium', 'Netafarm'], ['Tray Semai 288 Lubang Traypot Pot Bibit Biji Tray Nampan Hidroponik', 'Sesuai pesanan', 'Netafarm'], ['Liquinox Thailand T-rex Start B1 VRL 500ml', 'Baru mau nyoba, saran dr bbrp teman sich katanya bagus...smoga bagus beneran', 'Netafarm'], ['Pupuk MEROKE Mutiara Grower NPK - 1 kg Kemasan Original Pabrik', 'Sesuai dg apk', 'Netafarm'], ['Pestisida Insektisida LANNATE 25WP 15gram', 'Bagus', 'Netafarm'], ['Impraboard Tutup Bak Baki Hidroponik 6 Lubang Sistem Wick', 'Pesanan sesuai dan pengiriman cepat', 'Netafarm'], ['Belerang Bubuk Halus Sulfur Powder Belerang Sulfur 99,8% - 500gr', 'MANTAPPPPP', 'Netafarm'], ['Belerang Bubuk Halus Sulfur Powder Belerang Sulfur 99,8% - 500gr', 'BAGUS', 'Netafarm'], ['Pupuk Suplemen Sel Tanaman VITARON SL 500 ml', 'Baguss', 'Netafarm'], ['Pupuk Meroke NPK Mutiara Professional 9-25-25 Kemasan Repacking 1kg', 'Bagus', 'Netafarm'], ['Pupuk Meroke NPK Mutiara Professional 9-25-25 Kemasan Repacking 1kg', 'Bagus', 'Netafarm'], ['Pupuk Fungisida Organik Tricoderma Gliocaldium ANFUSH - 500gr 1pcs', 'Bagus', 'Netafarm'], ['Paket EM4 PERTANIAN 1 Liter + MOLASE 1kg Tanah Tanaman', 'Pengiriman CPT mantap', 'Netafarm'], ['Netpot 5cm Hitam + Flanel Sumbu Hidroponik ( Set 100pcs )', 'Barang cepat sampai.. Pekingrapi', 'Netafarm'], ['PUPUK MEROKE NPK Mutiara 16-16-16 - 1 kg', 'Mantap semoga awet', 'Netafarm'], ['Pupuk NPK PAK TANI Mutiara Merah 16-16-16 Penyubur Tanaman 1 KG', 'Alhamdulillah sesuai', 'Netafarm'], ['PUPUK MEROKE MAG-S ( MgSO4 ) 1 kg', 'Mantap pengiriman jg cepet', 'Netafarm'], ['Pupuk NPK PAK TANI Mutiara Biru 16-16-16 Penyubur Tanaman 1 KG Kalium Padi', 'Mantap pengiriman jg cepet', 'Netafarm'], ['Tray Semai 32 50 72 105 128 162 200 288 Lubang Tebal 1mm', 'mantab', 'Netafarm'], ['Pemotong dan pelubang rockwool 18 lubang ( 17 x 10 x 4 cm ) Kayu Peralatan', '👍🏻👍🏻👍🏻👍🏻👍🏻👍🏻', 'Netafarm'], ['Racun Tikus PETROKUM Umpan Pembasmi Hama Curut Rodentisida - 100 gram', 'Cepet banget datang nya rapi banget kemasannya murah moga tikus di rumah pd musnah', 'Netafarm'], ['Belerang Bubuk Halus Sulfur Powder Belerang Sulfur 99,8% - 500gr', 'Pengiriman cepat', 'Netafarm'], ['Pupuk NPK 25-07-07 YARAMILA FASTER Repacking 1kg', 'Pupuk sangat berkualitas', 'Netafarm'], ['Flanel Sumbu Hidroponik', 'Bagus,sesuai', 'Netafarm'], ['Pupuk Daun MEROKE - PROVIT MERAH 500gr', 'Sudah basah , expired', 'Netafarm'], ['EM4 Tanaman Pertanian volume 1 liter', 'Bagus. Barang dtg dg aman.', 'Netafarm'], ['TDS Meter Digital - Alat Ukur PPM Air & Hidroponik', 'Barangnya bagus, sudah dicoba dan bisa digunakan... mantapp', 'Netafarm'], ['Paket EM4 PERTANIAN 1 Liter + MOLASE 1kg Tanah Tanaman', 'Mantap', 'Netafarm'], ['Tray Semai 50 72 105 128 200 288 Lubang Tebal 0,7 mm - pcs', 'oi', 'Netafarm'], ['Molase Tetes Tebu Murni untuk Peternakan, Perikanan dan pertanian - 1kg', 'Pengiriman cepat,packing aman \\nToko amanah', 'Netafarm'], ['Benih Biji Bibit Cabai Rawit \"MIDORA\" (RJHL 1193) Urban Farmer Seed - 1 Pcs', 'Sesuai pesanan datang dgn selamat 👍🏻', 'Netafarm'], ['Molase Tetes Tebu Murni untuk Peternakan, Perikanan dan pertanian - 1kg', 'Sesuai pesanan datang dgn selamat 👍🏻', 'Netafarm'], ['Netpot 5cm Hitam + Flanel Sumbu Hidroponik ( Set 100pcs )', 'Barang sudah di terima dalam keadaan baik dan sesuai dengan pesanan 👍👍👍👍👍', 'Netafarm'], ['Pasak Penusuk Pengikat Penjepit Plastik Mulsa 9 cm - 1 kg', 'Bagus', 'Netafarm'], ['GUANO PHOSPHATE NPK 0-15-0 Pupuk Organik 500gr', 'Bagus', 'Netafarm'], ['Cepuk Tempat Makan Mandi Hewan burung Oval ASENA - 1pc', 'sesuai pesanan\\nsemoga awet\\n..................................', 'Netafarm'], ['Pupuk Meroke Mikro Fitoflex - Kemasan original 1 Dus ( 50 pcs )', 'Performa: Ok\\nKualitas pengerjaan: Ok', 'Netafarm'], ['TDS Meter Digital - Alat Ukur PPM Air & Hidroponik', 'nice', 'Netafarm'], ['Pupuk Organik Cair - Jimmy Hantu Jagotani Hormon Pembuahan 250 ml', 'Maunya pupuk untuk pertumbuhan, keliru untuk pembuahan', 'Netafarm'], ['OSMOCOTE 13 - 13 - 13 100gr (Pupuk Slow Release)', 'Gak tau siapa yg oesan', 'Netafarm'], ['Pupuk Meroke NPK Mutiara Professional 9-25-25 Kemasan Repacking 1kg', 'Bagus', 'Netafarm'], ['Paket EM4 PERTANIAN 1 Liter + MOLASE 1kg Tanah Tanaman', 'Vvv', 'Netafarm'], ['PUPUK MEROKE VITAFLEX - 500gr', 'Terimakasih', 'Netafarm'], ['Belerang Bubuk Halus Sulfur Powder Belerang Sulfur 99,8% - 500gr', 'Terimakasih', 'Netafarm'], ['Pupuk Meroke MAP - Kemasan 1kg', 'Terimakasih', 'Netafarm'], ['Molase Tetes Tebu Murni untuk Peternakan, Perikanan dan pertanian - 1kg', 'Ga full 1 botol yah😅 tapi keren sih pengemasan nya juga ajib', 'Netafarm'], ['Rockwool CULTILENE 1/2 Slab 75x150x500mm', 'Mantap', 'Netafarm'], ['Media tanam Hydroton Jerman - 1 Liter', 'Sesuai', 'Netafarm'], ['Netpot 5cm Hitam + Flanel Sumbu Hidroponik ( Set 100pcs )', 'Sesuai', 'Netafarm'], ['Fungisida DITHANE M-45 80wp Pembasmi Jamur Tanaman - Kemasan 200gr', '.', 'Netafarm'], ['Weedmat NOGULMA Geotextile Mulsa Gulma Hitam 90 GSM 4x100m - 1 Meteran', 'Good', 'Netafarm'], ['Rockwool Vegetation Mats SPELAND VEGA 2,5x2,5x2,5cm 24 potong -1pcs', 'Worth The Price', 'Netafarm'], ['Pupuk AB Mix Cair NETAFARM - Sayuran Daun 100ml Stock A dan B Tanaman', 'Worth The Price', 'Netafarm'], ['Netpot 5cm Putih + Flanel Sumbu Hidroponik ( Set 100pcs )', 'Worth The Price', 'Netafarm'], ['Mata Gergaji Rockwool Hack Saw Blades Carbon Steel 300x12mm 18T - 1pcs', 'Worth The Price', 'Netafarm'], ['Pupuk Nutrisi Hidroponik AB Mix NETAFARM - SAYUR DAUN 100 lt - PREMIUM', '👍🏼👍🏼👍🏼👍🏼👍🏼👍🏼👍🏼👍🏼👍🏼👍🏼👍🏼👍🏼👍🏼👍🏼👍🏼👍🏼', 'Netafarm'], ['Racun Tikus PETROKUM Umpan Pembasmi Hama Curut Rodentisida - 100 gram', 'Barang sesuai, packing aman, pengiriman cepat semoga cocok', 'Netafarm'], ['Fungisida ANTRACOL 70 WP - Kemasan 250gr', 'Sesuai', 'Netafarm'], ['Nutrisi Tanaman & Tanah Asam Humat Humic Acid POWERSOIL - 1kg', 'Mantap', 'Netafarm'], ['Pupuk Kalsium + Asam Humat CAL-HA 1KG - 1pcs Tanah Tanaman Bunga', 'Mantap', 'Netafarm'], ['Pupuk Meroke NPK Mutiara Professional 9-25-25 Kemasan Repacking 1kg', 'Bagus', 'Netafarm'], ['Tapetool Hand Tying Machine Alat Pengikat Lanjaran Tanaman+Paket Refil', 'Kualitas produk: bagus', 'Netafarm'], ['Pupuk Kapur Pertanian Dolomite Dolomit 1 KG Tanah Tanaman Benih', 'Sesuai dg pesanan. Terima kasih', 'Netafarm'], ['Paket EM4 PETERNAKAN 1 Liter + MOLASE 1kg', 'Respon cepat, kurir ramah', 'Netafarm'], ['Pupuk Mahkota Borate 46% - 1 kg', 'Barang sesuai dengan orderan,,semoga bagus,mo coba buat pohon mangga', 'Netafarm'], ['Pupuk Meroke Boroni Kalsium Nitrat Kemasan Pabrik - 1 kg', 'Cepet satset', 'Netafarm'], ['Flanel Sumbu Hidroponik', 'mantap untuk kaya janda', 'Netafarm'], ['Insektisida ABACEL 18ec Abamektin - 100ml', 'Alhamdulillah sesuai pesanan', 'Netafarm'], ['Tapetool Hand Tying Machine Alat Pengikat Lanjaran Tanaman+Paket Refil', 'Lebih dari kata ekspektasi ini mah bagus banget , puas pokoknya rekomendasi , udah dapet pita 6 gulung , isi step les nya banyak banget barang nya oke mudah di mengerti c... ', 'Netafarm'], ['Paket EM4 PETERNAKAN 1 Liter + MOLASE 1kg', 'Baru nyoba,mudah2an cocok', 'Netafarm'], ['Rockwool CULTILENE 1/4 Slab 75x150x250mm', 'pesanan sesuai', 'Netafarm'], ['Pupuk NPK 15-9-20 Mutiara Grower MEROKE Repacking 1 kg', 'Manfaat', 'Netafarm'], ['Impraboard Tutup Bak Baki Hidroponik 9 Lubang Sistem Wick', 'Ok', 'Netafarm']]\n",
      "\n",
      "✅ Data berhasil disimpan\n"
     ]
    }
   ],
   "source": [
    "# Step 1: Ambil data dari Tokopedia\n",
    "data_tokopedia = scrape_netafarm()"
   ]
  },
  {
   "cell_type": "code",
   "execution_count": 3,
   "id": "7fd56c97",
   "metadata": {},
   "outputs": [
    {
     "name": "stdout",
     "output_type": "stream",
     "text": [
      "🚀 Memulai browser...\n",
      "⏳ Menunggu halaman dimuat...\n",
      "[['kayuan - Racun Pengusir Nyamuk Repellent ORGANIK Obat Pembasmi Nyamuk', 'pesan botol x 2 satu isinya putih yg lain kuning. kenapa beda? dapat loyalty card tapi klo scan error terus 🤔', 'Infarm'], ['Kayuan - Semprotan Air Kepala Selang Jetspray Watergun 7 Mode', 'barang sesuai pesanan, kualitas bagus, pengiriman cepat', 'Infarm'], ['Kayuan - Botol Spray Kosong Warna Warni 400 ML Alat Kebersihan Rumah', 'penjual penipu, barang tidak dikirim, hanya kepala spray saja yg ada, dg packing kecil. Jangan beli disini! (jika barang dikirim akan saya ubah penilaianya)', 'Infarm'], ['kayuan - Pengusir Semut ORGANIK Spray repellent Anti Semut & Serangga', 'Beli pengusir semut, cicak dan nyamuk. Lumayan ampuh ramuannya, tapi saya beri bintang 4 karena botol2 spraynya berkualitas buruk. Seandainya botol2 spraynya juga oke, bi... ', 'Infarm'], ['kayuan - Racun Pengusir Kecoa Repellent ORGANIK Obat Pembasmi Kecoa', 'ok sih.\\nagak pedes kalau kehirup hahaha', 'Infarm'], ['Kayuan - Racun Pengusir Nyamuk Repellent ORGANIK Nyamuk Aromatik', 'paketnya sdh sy terima dgn baik. tq seller and toped.', 'Infarm'], ['kayuan - Pengusir Semut ORGANIK Spray repellent Anti Semut & Serangga', 'semut lgsg kabur', 'Infarm'], ['Kayuan - Pengusir Tikus ORGANIK Spray Repellent Anti Tikus', 'Nyampenya cepet, kirim ke bekasi. \\n Baru pertama kali nyoba pake buat ngusir tikus, semoga berfungsi dgn baik', 'Infarm'], ['Kayuan - Tabung Pipa Lubang Biopori Panjang 50 cm Bahan PVC', 'Barangnya sesuai dengan deskripsi. Semoga bisa berguna. Semoga sampah organik bisa dikurangi sejak dari rumah. \\U0001faf6🏾🔥', 'Infarm'], ['KAYUAN - Pasak Mulsa 14 cm 10 Pcs Alat Pengepit Pengikat Penusuk Mulsa', 'paket dah nyampe ke serang banten terimakasih', 'Infarm'], ['Kayuan - 10 pcs Klip Pengikat Kabel dan Batang Tanaman Rambat Premium', 'paket dah nyampe ke serang banten terimakasih', 'Infarm'], ['Kayuan - Gelas Ukur Takar Nutrisi 1000 ml / 1 liter Foodgrade', 'paket dah nyampe ke serang banten terimakasih', 'Infarm'], ['Kayuan - Suntikan Takar 10 ml Suntikan Takaran Cairan', 'paket dah nyampe ke serang banten terimakasih', 'Infarm'], ['kayuan - Pengusir Semut ORGANIK Spray repellent Anti Semut & Serangga', 'saya pesan spray anti semut, tapi yang dikirim isinya hanya polybag. awal terima barang udh ragu2 kok spray bentuk kemasannya pipih. cuma sy mikirnya mungkin sachet bubuk... ', 'Infarm'], ['Kayuan - Repellent Pengusir Semut Spray Anti Nyamuk 100 ml', 'blum coba semoga berhasil', 'Infarm'], ['Kayuan - Kepala Sprayer Manual Tekanan Tinggi Bisa di Adjust Untuk Pen', 'lumayan lah, meskipun ga ada yg masuk sama botolnya', 'Infarm'], ['Kayuan - Semprotan Air Kepala Selang Jetspray Watergun 7 Mode', 'Sudah diterima dan berfungsi dg baik. Terima kasih.', 'Infarm'], ['Kayuan - Sprayer Tekanan Tinggi 2L Pompa Manual', 'Kualitas Product Bagus', 'Infarm'], ['Kayuan - Racun Tikus Maowang Cair 2M Botol Merah Bulat Mati Kering', 'mantap. tikus\" langsung sekarat', 'Infarm'], ['Kayuan - Pengusir Cicak ORGANIK Spray Repellent Anti Cicak', 'barang habis tidak konfirmasi tapi dikirim uangnya/refund', 'Infarm'], ['Kayuan - Pengusir Tikus ORGANIK Spray Repellent Anti Tikus', 'belom ada perubahan signifikan sih', 'Infarm'], ['Kayuan - Pengusir Cicak ORGANIK Spray Repellent Anti Cicak', 'belom ada perubahan signifikan sih', 'Infarm'], ['Kayuan - Racun Pengusir Kecoa Repellent ORGANIK Obat Pembasmi Kecoa', 'brg udh sampe...semoga sesuai fungsi nya', 'Infarm'], ['Kayuan - Selang Ajaib Elastis Memanjang Magic Hose Untuk Siram Kebun', 'bagus, kurir ok. ternyata lebih baik beli yg versi 9 meter, Krn butuh tekanan tinggi untuk mencapai panjang maksimal.', 'Infarm'], ['Kayuan - Pengusir Tikus ORGANIK Spray Repellent Anti Tikus', 'barang oke pengiriman cepat', 'Infarm']]\n",
      "\n",
      "✅ Data berhasil disimpan\n"
     ]
    }
   ],
   "source": [
    "\n",
    "# Step 2: Lanjut scraping Shopee dan tambahkan ke data yang sama\n",
    "final_data = scrape_infarm(data_tokopedia)\n"
   ]
  },
  {
   "cell_type": "code",
   "execution_count": 4,
   "id": "c814b723",
   "metadata": {},
   "outputs": [
    {
     "name": "stdout",
     "output_type": "stream",
     "text": [
      "🚀 Memulai browser...\n",
      "⏳ Menunggu halaman dimuat...\n",
      "[['Pasir Gumpal Wangi Premium CAT SECRET Repack - 1 Liter', 'Rp12.500'], ['Pestisida Insektisida Fipronil BASF REGENT 50 SC RED - 50ml', 'Rp29.000'], ['SELDENE 250EC Moluskisida Obat Racun Keong Siput Sawah - 400 ML', 'Rp102.750'], ['44%', 'Rp22.500'], ['22%', 'Rp35.000'], ['28%', 'Rp18.000'], ['Pupuk Kalium Nitrat KNO3 Hortipray Prayon Belgia 1kg', 'Rp40.500'], ['TALI RAMBATAN BENANG GAWAR 3 WARNA - 1 PCS', 'Rp15.000'], ['WEEDMAT DURAMAT-SP TAK 4X1 Meter ( ECERAN )', 'Rp22.000'], ['WEEDMAT DURAMAT-SP TAK 2X1 Meter ( ECERAN )', 'Rp12.000'], ['Weedmat NOGULMA Geotextile Mulsa Gulma Hitam 90 GSM 4x100m - Roll', 'Rp1.785.000'], ['Weedmat Control Terpal Mulsa Anti Rumput Hitam EG Lebar 0,8mx100m-Roll', 'Rp492.200'], ['Weedmat NOGULMA Geotextile Mulsa Gulma Hitam 100 GSM 4x100m - Roll', 'Rp2.166.800'], ['Pupuk Organik JIMMY HANTU Ratu Biogen ZPT Hormon Pertumbuhan 1000ml Putih Tanaman', 'Rp104.900'], ['Gunting Tanaman Daun Ranting Dahan Alat Berkebun DUA WARNA -1pcs - Kuning', 'Rp36.700'], ['Pot Bunga / Tanaman Hias Warna Hitam No 30', 'Rp7.000'], ['Weedmat Control Terpal Mulsa Anti Rumput Hitam EG Lebar 1,2mx50m -Roll', 'Rp375.000'], ['Impraboard ( Tanpa Lubang ) Dimensi : 31cm x 39cm x 3mm -1pc', 'Rp6.200'], ['Weedmat NOGULMA Geotextile Mulsa Gulma Hitam 90 GSM 4x100m - 1 Meteran', 'Rp22.000'], ['Pupuk Boron Borate 46% INABOR 10 Masa Pembuahan - 1 Kg', 'Rp38.600'], ['InstaNet Jaring Paranet Anti Uv 95% Pelindung Sinar Matahari SunshadeNet 4m x 8m - 1pcs', 'Rp325.000'], ['InstaNet Jaring Paranet Anti Uv 95% Pelindung Sinar Matahari SunshadeNet 4m x 6m - 1pcs', 'Rp235.000'], ['InstaNet Jaring Paranet Anti Uv 95% Pelindung Sinar Matahari SunshadeNet 5m x 5m - 1pcs', 'Rp250.000'], ['InstaNet Jaring Paranet Anti Uv 95% Pelindung Sinar Matahari SunshadeNet 3m x 4m - 1pcs', 'Rp135.000'], ['VENUS INSECT TRAP PERANGKAP\\xa0HAMA\\xa0SERANGGA - 1 Pack', 'Rp36.500'], ['Benih Biji Bibit Bayam Jepang Horenzo \"Spinach\" Mix Garden Seed - 1 Pcs', 'Rp15.000'], ['Benih Biji Bibit Cabai Carolina Reaper Red Mix Garden Seed - 1 Pcs', 'Rp15.000'], ['Benih Biji Bibit Cabai Rawit \"MIDORA\" (RJHL 1193) Urban Farmer Seed - 1 Pcs', 'Rp15.000'], ['Benih Biji Bibit Markisa Kuning Yellow Passion Fruit Mix Garden Seed - 1 Pcs', 'Rp15.000'], ['Benih Biji Bibit Bunga Hibiscus Rose Mallow Mix Garden Seed - 1 Pcs', 'Rp15.000'], ['Pupuk Buah / Kelengkeng Pelebat Organik Cepat Berbuah Lebat - 500 Gram', 'Rp24.100'], ['Booster Buah / Kelengkeng Pelebat Organik Cepat Berbuah Lebat - 60 Gram', 'Rp10.700'], ['Insektisida ABACEL 18ec Abamektin - 250ml', 'Rp63.300'], ['Benih Biji Bibit Melon Hotei 8 Round Net - 10 Seeds', 'Rp42.800'], ['Benih Biji Bibit Melon Persefon Variety 165 Semi Oval Non Net - 10 Seeds', 'Rp43.000'], ['Pipa Tutup Biopori / Casing Bio pori 4\" tinggi 100cm', 'Rp118.300'], ['SELDENE 250EC Moluskisida Obat Racun Keong Siput Sawah - 100 ML', 'Rp28.000'], ['SELDENE 250EC Moluskisida Obat Racun Keong Siput Sawah - 400 ML', 'Rp102.750'], ['Plant Nametag / Label Tanaman Tancap Lancip 12.5 x 2 cm - 10 pcs', 'Rp4.200'], ['Pembasmi jamur Fungisida Copcide 77WP - 400 gr', 'Rp122.250'], ['Pasak Penusuk Pengikat Penjepit Plastik Mulsa 9 cm - 1 kg', 'Rp23.000'], ['Alat Ukur Air Hidroponik - pH Meter ATC (Pen Type PH-009)', 'Rp428.000'], ['PH Meter Tanah Kelembaban / Alat Ukur PH Soil Meter Tester ST 05', 'Rp141.500'], ['Tray Semai 32 50 72 105 128 162 200 288 Lubang Tebal 1mm - 100pcs@Dus', 'Rp650.000'], ['Tray Semai 162 Lubang Traypot Seed Tray Biji Bibit Hidroponik - pcs', 'Rp6.500'], ['Tray Semai 32 50 72 105 128 162 200 288 Lubang Tebal 1mm', 'Rp7.000'], ['SELANG AIR TRANSPARAN 3/16 INCH PUSO PVC HOSE PUTIH BENING - ECER 1M', 'Rp1.100'], ['BUSA BUAH NET FOAM BESAR JARING BUNGKUS BUAH POLYNET NET - BALL 15 Rol', 'Rp722.300'], ['Polynet Waring Rambang Kantong Jaring Bawang Buah Telur 1rol 100meter - Merah Kuning', 'Rp48.500'], ['TALI TAMPAR BIRU UK 5 MM - 1 ROLL 200 M', 'Rp157.900'], ['Pupuk Organik Cair & Suplemen Tanaman VIGORIN 500 ml', 'Rp39.000'], ['Pupuk NPK 16-16-16 YaraMila UNIK Repacking 1 kg - 1pcs Tanaman Bunga', 'Rp21.400'], ['Pupuk NPK 16-16-16 YaraMila UNIK zak 50kg', 'Rp877.500'], ['Media Tanam Sphagnum Moss PADAT KERING Dimensi 0,9 KG - 1 pcs', 'Rp150.000'], ['Media Tanam - SPHAGNUM MOSS Kemasan 100g', 'Rp22.500'], ['Media Tanam - SPHAGNUM MOSS Kemasan 2 Liter Tanaman', 'Rp32.100'], ['Suplemen Tanaman Fase Generatif KALINET Kalium Cair 250ML - 1pcs Daun Jamur Kayu', 'Rp36.400'], ['Media Tanam Sphagnum Moss PADAT KERING Dimensi 1,6 KG - 1 pcs', 'Rp297.500'], ['Pupuk Organik Cair & Suplemen Tanaman VIGORIN 1150 ml', 'Rp66.500'], ['Pupuk Suplemen Sel Tanaman VITARON SL 500 ml', 'Rp59.000'], ['PAC CHINA Penjernih Air POLY ALUMINIUM CHLORIDE INDUSTRIAL - 1 KG', 'Rp16.900'], ['PAC JERMAN Penjernih Air POLY ALUMINIUM CHLORIDE - 1 KG', 'Rp22.500'], ['Pupuk Mikronutrisi Librel BMX Micronutrient Mixture Chelated - 50 Gr', 'Rp16.000'], ['Pupuk Mikronutrisi Librel BMX Micronutrient Mixture Chelated - 500 Gr', 'Rp131.000'], ['Insektisida Endosulfan AKODAN 35ec - 300ml', 'Rp59.200'], ['PUPUK NPK 10-55-10 GROWMORE 454 GRAM', 'Rp89.900'], ['PUPUK NPK 32-10-10 GROWMORE 454 GRAM', 'Rp89.900'], ['PUPUK NPK 12-45-10 GROWMORE 454 GRAM', 'Rp89.900'], ['Insektisida Pembasmi Hama Imidakloprid CONFIDOR 200SL - 60ml', 'Rp77.100'], ['Jaring PARANET ZIG-ZAG BERINGIN 60% Lebar 3 Meter - Eceran 1 meter', 'Rp9.500'], ['NETPOT Hidroponik 10 cm HITAM - Kemasan Karungan (isi 500 pcs)', 'Rp450.000'], ['Waring Hitam CAP JANGKAR PERKASA L120cm P100m - 1 Roll', 'Rp280.900'], ['Waring Hitam CAP JANGKAR PERKASA L120cm P50m - 1 Roll', 'Rp144.000'], ['Media Tanam - LUMUT SPHAGNUM MOSS - 5 KG', 'Rp1.235.000'], ['Media Tanam - LUMUT SPHAGNUM MOSS - 10 KG', 'Rp2.080.000'], ['Gembor Air Ember Penyiram Tanaman Watering Can 8 Liter - Merah Muda Bunga Hijau', 'Rp34.500'], ['Gembor Air Ember Penyiram Tanaman Watering Can 3 Liter', 'Rp25.000'], ['Gembor Air Ember Penyiram Tanaman Watering Can 3,8 Liter', 'Rp26.000'], ['Plastik UV HERCULES 200mc 3m x 100m Per Roll', 'Rp2.700.000'], ['Plastik Bubble Wrap 2kg Lebar 125 cm - 1 Roll', 'Rp89.000'], ['Weedmat Control Terpal Mulsa Anti Rumput Hitam EG Lebar 1,2mx50m -Roll', 'Rp375.000'], ['Benih Biji Bibit Kailan NITA Cap Panah Merah 1000 seeds', 'Rp12.000'], ['Benih Biji Bibit Terong MUSTANG F1 Cap Panah Merah 200 seeds', 'Rp14.000'], ['Media Tanam Kulit Pinus cacah PINE BARK ( 3 - 17 cm ) - 10 kg', 'Rp140.500'], ['Media Tanam Kulit Pinus cacah PINE BARK ( 4 - 11 cm ) - 10 kg', 'Rp140.500'], ['Media Tanam Kulit Pinus cacah PINE BARK ( 1 - 4 cm ) - 10 kg', 'Rp168.600'], ['Pasak Penusuk Pengikat Penjepit Plastik Mulsa 14 cm - 10 pcs', 'Rp3.000'], ['Pasak Penusuk Pengikat Penjepit Plastik Mulsa 9 cm - 10 pcs', 'Rp1.900'], ['Sprinkler Impact Impulse Metal 1/2\" & 3/4\" Irigasi SD1301 - 1pc', 'Rp69.600'], ['Sprinkler Springkle Kupu Butterfly 1/2\" & 3/4\" Irigasi SD1623 - 1pcs', 'Rp4.300'], ['LIQUINOX START B1 TAIWAN USA VRL Mirip THAILAND TREX 100ml', 'Rp24.000'], ['Turus Pipa Sabut Kelapa diameter 7cm tinggi 115cm', 'Rp20.900'], ['Turus Pipa Sabut Kelapa diameter 5cm tinggi 115cm Tanaman Tiang', 'Rp10.200'], ['Turus Pipa Sabut Kelapa diameter 7cm tinggi 75cm Tanaman Tiang', 'Rp16.500'], ['Turus Pipa Sabut Kelapa diameter 5cm tinggi 75cm', 'Rp8.600'], ['Turus Ajir Modern Sabut Kelapa diameter 3cm tinggi 100cm', 'Rp15.750'], ['Media Tanam Coco Fiber Cocofiber Serat Sabut Kelapa Grade A 250gr', 'Rp3.500'], ['Jaring PARANET 75% lebar 3m Panjang 100m - Per Roll ( WALET )', 'Rp600.000'], ['Jaring PARANET 75% lebar 3 meter - ECERAN 1 Meter ( WALET )', 'Rp9.100'], ['Pestisida Fungisida Insektisida Organik Neem Oil PLUS - 100ml', 'Rp45.000']]\n",
      "\n",
      "✅ DataProduk berhasil disimpan\n"
     ]
    }
   ],
   "source": [
    "\n",
    "produk_netafarm = scrape_prodnetafarm()"
   ]
  },
  {
   "cell_type": "code",
   "execution_count": 5,
   "id": "d0b30b7c",
   "metadata": {},
   "outputs": [
    {
     "name": "stdout",
     "output_type": "stream",
     "text": [
      "                                                Produk  \\\n",
      "0    Tapetool Hand Tying Machine Alat Pengikat Lanj...   \n",
      "1          PUPUK CAIR LIQUINOX START B1 ORIGINAL 470ml   \n",
      "2    Pupuk NPK PAK TANI Mutiara Biru 16-16-16 Penyu...   \n",
      "3                      Pupuk Meroke SOP - Kemasan 1 kg   \n",
      "4    TDS Meter Digital - Alat Ukur PPM Air & Hidrop...   \n",
      "..                                                 ...   \n",
      "97   Kayuan - Pengusir Tikus ORGANIK Spray Repellen...   \n",
      "98   Kayuan - Pengusir Cicak ORGANIK Spray Repellen...   \n",
      "99   Kayuan - Racun Pengusir Kecoa Repellent ORGANI...   \n",
      "100  Kayuan - Selang Ajaib Elastis Memanjang Magic ...   \n",
      "101  Kayuan - Pengusir Tikus ORGANIK Spray Repellen...   \n",
      "\n",
      "                                                Ulasan Perusahaan  \n",
      "0    Barang sampai dengan baik terima kasih kurir y...   Netafarm  \n",
      "1    Udah ke sekian kali order ditoko ini biasanya ...   Netafarm  \n",
      "2    Sesuai pesanan moga jadi langganan terus cepet...   Netafarm  \n",
      "3    Sampai tepat waktu wlw beli nya jauh toko nya ...   Netafarm  \n",
      "4                   Belum mampu ukur air asin akuarium   Netafarm  \n",
      "..                                                 ...        ...  \n",
      "97                  belom ada perubahan signifikan sih     Infarm  \n",
      "98                  belom ada perubahan signifikan sih     Infarm  \n",
      "99            brg udh sampe...semoga sesuai fungsi nya     Infarm  \n",
      "100  bagus, kurir ok. ternyata lebih baik beli yg v...     Infarm  \n",
      "101                        barang oke pengiriman cepat     Infarm  \n",
      "\n",
      "[102 rows x 3 columns]\n"
     ]
    }
   ],
   "source": [
    "df_ulasan = pd.DataFrame(final_data, columns=[\"Produk\", \"Ulasan\", \"Perusahaan\"])\n",
    "print(df_ulasan)"
   ]
  },
  {
   "cell_type": "code",
   "execution_count": 6,
   "id": "b3303ed9",
   "metadata": {},
   "outputs": [
    {
     "name": "stdout",
     "output_type": "stream",
     "text": [
      "                                          Nama Produk      Harga\n",
      "0   Pasir Gumpal Wangi Premium CAT SECRET Repack -...   Rp12.500\n",
      "1   Pestisida Insektisida Fipronil BASF REGENT 50 ...   Rp29.000\n",
      "2   SELDENE 250EC Moluskisida Obat Racun Keong Sip...  Rp102.750\n",
      "3                                                 44%   Rp22.500\n",
      "4                                                 22%   Rp35.000\n",
      "..                                                ...        ...\n",
      "95  Turus Ajir Modern Sabut Kelapa diameter 3cm ti...   Rp15.750\n",
      "96  Media Tanam Coco Fiber Cocofiber Serat Sabut K...    Rp3.500\n",
      "97  Jaring PARANET 75% lebar 3m Panjang 100m - Per...  Rp600.000\n",
      "98  Jaring PARANET 75% lebar 3 meter - ECERAN 1 Me...    Rp9.100\n",
      "99  Pestisida Fungisida Insektisida Organik Neem O...   Rp45.000\n",
      "\n",
      "[100 rows x 2 columns]\n"
     ]
    }
   ],
   "source": [
    "df_produk = pd.DataFrame(produk_netafarm, columns=[\"Nama Produk\", \"Harga\"])\n",
    "print(df_produk)"
   ]
  },
  {
   "cell_type": "code",
   "execution_count": 7,
   "id": "553231da",
   "metadata": {},
   "outputs": [
    {
     "name": "stdout",
     "output_type": "stream",
     "text": [
      "\n",
      "✅ Semua data berhasil disimpan di: /Users/muhammaddzulfiqar/Downloads/gabungan_tokopedia_shopee.xlsx\n"
     ]
    }
   ],
   "source": [
    "downloads_path = os.path.join(os.path.expanduser(\"~\"), \"Downloads\")\n",
    "output_path = os.path.join(downloads_path, \"gabungan_tokopedia_shopee.xlsx\")\n",
    "\n",
    "with pd.ExcelWriter(output_path, engine='xlsxwriter') as writer:\n",
    "    df_ulasan.to_excel(writer, sheet_name='Ulasan', index=False)\n",
    "    df_produk.to_excel(writer, sheet_name='Produk', index=False)\n",
    "\n",
    "print(f\"\\n✅ Semua data berhasil disimpan di: {output_path}\")"
   ]
  },
  {
   "cell_type": "code",
   "execution_count": 8,
   "id": "20a2efe4",
   "metadata": {},
   "outputs": [
    {
     "name": "stderr",
     "output_type": "stream",
     "text": [
      "[nltk_data] Downloading package stopwords to\n",
      "[nltk_data]     /Users/muhammaddzulfiqar/nltk_data...\n",
      "[nltk_data]   Package stopwords is already up-to-date!\n",
      "[nltk_data] Downloading package punkt to\n",
      "[nltk_data]     /Users/muhammaddzulfiqar/nltk_data...\n",
      "[nltk_data]   Package punkt is already up-to-date!\n",
      "[nltk_data] Downloading package punkt_tab to\n",
      "[nltk_data]     /Users/muhammaddzulfiqar/nltk_data...\n",
      "[nltk_data]   Package punkt_tab is already up-to-date!\n",
      "[nltk_data] Downloading package vader_lexicon to\n",
      "[nltk_data]     /Users/muhammaddzulfiqar/nltk_data...\n",
      "[nltk_data]   Package vader_lexicon is already up-to-date!\n"
     ]
    },
    {
     "name": "stdout",
     "output_type": "stream",
     "text": [
      "                                               Produk  \\\n",
      "0   Tapetool Hand Tying Machine Alat Pengikat Lanj...   \n",
      "1         PUPUK CAIR LIQUINOX START B1 ORIGINAL 470ml   \n",
      "2   Pupuk NPK PAK TANI Mutiara Biru 16-16-16 Penyu...   \n",
      "3                     Pupuk Meroke SOP - Kemasan 1 kg   \n",
      "4   TDS Meter Digital - Alat Ukur PPM Air & Hidrop...   \n",
      "..                                                ...   \n",
      "72  Tapetool Hand Tying Machine Alat Pengikat Lanj...   \n",
      "73          Paket EM4 PETERNAKAN 1 Liter + MOLASE 1kg   \n",
      "74           Rockwool CULTILENE 1/4 Slab 75x150x250mm   \n",
      "75  Pupuk NPK 15-9-20 Mutiara Grower MEROKE Repack...   \n",
      "76  Impraboard Tutup Bak Baki Hidroponik 9 Lubang ...   \n",
      "\n",
      "                                               Ulasan Perusahaan  \n",
      "0   Barang sampai dengan baik terima kasih kurir y...   Netafarm  \n",
      "1   Udah ke sekian kali order ditoko ini biasanya ...   Netafarm  \n",
      "2   Sesuai pesanan moga jadi langganan terus cepet...   Netafarm  \n",
      "3   Sampai tepat waktu wlw beli nya jauh toko nya ...   Netafarm  \n",
      "4                  Belum mampu ukur air asin akuarium   Netafarm  \n",
      "..                                                ...        ...  \n",
      "72  Lebih dari kata ekspektasi ini mah bagus bange...   Netafarm  \n",
      "73                          Baru nyoba,mudah2an cocok   Netafarm  \n",
      "74                                     pesanan sesuai   Netafarm  \n",
      "75                                            Manfaat   Netafarm  \n",
      "76                                                 Ok   Netafarm  \n",
      "\n",
      "[77 rows x 3 columns]\n",
      "0     Barang sampai dengan baik terima kasih kurir y...\n",
      "1     Udah ke sekian kali order ditoko ini biasanya ...\n",
      "2     Sesuai pesanan moga jadi langganan terus cepet...\n",
      "3     Sampai tepat waktu wlw beli nya jauh toko nya ...\n",
      "4                    Belum mampu ukur air asin akuarium\n",
      "                            ...                        \n",
      "72    Lebih dari kata ekspektasi ini mah bagus bange...\n",
      "73                            Baru nyoba,mudah2an cocok\n",
      "74                                       pesanan sesuai\n",
      "75                                              Manfaat\n",
      "76                                                   Ok\n",
      "Name: Ulasan, Length: 77, dtype: object\n"
     ]
    },
    {
     "name": "stderr",
     "output_type": "stream",
     "text": [
      "Downloading...\n",
      "From: https://drive.google.com/uc?export=download&id=1lzuTJRSVOuQd1GEO7HjOfX0tEWQvqT3t\n",
      "To: /Users/muhammaddzulfiqar/Downloads/My Document/FIQAR DOCUMENT/Magang/Magenta PT Semen Indonesia 2025/Projek/Uji Sentiment Selenium/classification/slang_dict.txt\n",
      "100%|██████████| 24.2k/24.2k [00:00<00:00, 12.1MB/s]\n"
     ]
    },
    {
     "name": "stdout",
     "output_type": "stream",
     "text": [
      "{'@': 'di', 'abg': 'remaja', 'abis': 'habis', 'ad': 'ada', 'adlh': 'adalah', 'afaik': 'as far as i know', 'aga': 'agak', 'agk': 'agak', 'ahaha': 'haha', 'aj': 'saja', 'ajep-ajep': 'dunia gemerlap', 'ak': 'saya', 'akika': 'aku', 'akkoh': 'aku', 'akuwh': 'aku', 'alay': 'norak', 'alow': 'halo', 'ambilin': 'ambilkan', 'ampe': 'sampai', 'ancur': 'hancur', 'anjrit': 'anjing', 'anter': 'antar', 'ap2': 'apa-apa', 'apasih': 'apa sih', 'apes': 'sial', 'aps': 'apa', 'aq': 'saya', 'aquwh': 'aku', 'asbun': 'asal bunyi', 'aseekk': 'asyik', 'asekk': 'asyik', 'asem': 'asam', 'aspal': 'asli tetapi palsu', 'astul': 'asal tulis', 'ato': 'atau', 'au ah': 'tidak mau tahu', 'awak': 'saya', 'ay': 'sayang', 'ayank': 'sayang', 'b4': 'sebelum', 'bakalan': 'akan', 'bandes': 'bantuan desa', 'bangedh': 'banget', 'banpol': 'bantuan polisi', 'banpur': 'bantuan tempur', 'barng': 'barang', 'basbang': 'basi', 'batrai': 'baterai', 'bcanda': 'bercanda', 'bd': 'beda', 'bdg': 'bandung', 'begajulan': 'nakal', 'beliin': 'belikan', 'bencong': 'banci', 'bentar': 'sebentar', 'ber3': 'bertiga', 'beresin': 'membereskan', 'bete': 'bosan', 'beud': 'banget', 'bg': 'abang', 'bgini': 'begini', 'bgmn': 'bagaimana', 'bget': 'banget', 'bgt': 'banget', 'bgtsi': 'banget sih', 'bgus': 'bagus', 'bijimane': 'bagaimana', 'bintal': 'bimbingan mental', 'bjr': 'anjing', 'bkl': 'akan', 'bknnya': 'bukannya', 'blegug': 'bodoh', 'blh': 'boleh', 'bli': 'beli', 'bln': 'bulan', 'blum': 'belum', 'blom': 'belum', 'bnci': 'benci', 'bnget': 'banget', 'bnran': 'beneran', 'bntang': 'bintang', 'bntu': 'bantu', 'bodor': 'lucu', 'bokap': 'ayah', 'boker': 'buang air besar', 'bokis': 'bohong', 'boljug': 'boleh juga', 'bonek': 'bocah nekat', 'boyeh': 'boleh', 'br': 'baru', 'brantakan': 'berantakan', 'brg': 'barang', 'brgnya': 'barangnya', 'brisik': 'berisik', 'bro': 'saudara laki-laki', 'brodol': 'sobek', 'bru': 'baru', 'bs': 'bisa', 'bsen': 'bosan', 'bt': 'buat', 'btw': 'ngomong-ngomong', 'buaya': 'tidak setia', 'bubbu': 'tidur', 'bubu': 'tidur', 'bumil': 'ibu hamil', 'bw': 'bawa', 'bwt': 'buat', 'byk': 'banyak', 'byrin': 'bayarkan', 'cabal': 'sabar', 'cadas': 'keren', 'calo': 'makelar', 'can': 'belum', 'capcus': 'pergi', 'caper': 'cari perhatian', 'ce': 'cewek', 'cekal': 'cegah tangkal', 'cemen': 'penakut', 'cengengesan': 'tertawa', 'cepet': 'cepat', 'cew': 'cewek', 'chuyunk': 'sayang', 'cimeng': 'ganja', 'cipika cipiki': 'cium pipi kanan cium pipi kiri', 'ciyh': 'sih', 'ckepp': 'cakep', 'ckp': 'cakep', 'co': 'checkout', 'cmiiw': \"correct me if i'm wrong\", 'cmn': 'cuma', 'cmpur': 'campur', 'cong': 'banci', 'conlok': 'cinta lokasi', 'cowwyy': 'maaf', 'ccok': 'cocok', 'cp': 'siapa', 'cpe': 'capek', 'cpet': 'cepat', 'cppe': 'capek', 'cucok': 'cocok', 'cuex': 'cuek', 'cuman': 'cuma', 'cumi': 'Cuma miscall', 'cups': 'culun', 'curanmor': 'pencurian kendaraan bermotor', 'curcol': 'curahan hati colongan', 'cwek': 'cewek', 'cyin': 'cinta', 'd': 'di', 'dah': 'deh', 'dapet': 'dapat', 'dateng': 'datang', 'dbls': 'dibalas', 'de': 'adik', 'dek': 'adik', 'demen': 'suka', 'deyh': 'deh', 'dg': 'dengan', 'dgn': 'dengan', 'dh': 'sudah', 'diem': 'diam', 'diancurin': 'dihancurkan', 'dimaafin': 'dimaafkan', 'dimintak': 'diminta', 'dipake': 'dipakai', 'disono': 'di sana', 'dket': 'dekat', 'dkk': 'dan kawan-kawan', 'dll': 'dan lain-lain', 'dlm': 'dalam', 'dl': 'dulu', 'dlu': 'dulu', 'dluan': 'duluan', 'dngn': 'dengan', 'dngan': 'dengan', 'dodol': 'bodoh', 'doku': 'uang', 'dongs': 'dong', 'dpt': 'dapat', 'dr': 'dari', 'dri': 'dari', 'drmn': 'darimana', 'drtd': 'dari tadi', 'dst': 'dan seterusnya', 'dtang': 'datang', 'dteng': 'datang', 'dtg': 'datang', 'dtng': 'datang', 'duh': 'aduh', 'duren': 'durian', 'dmn': 'dimana', 'ed': 'edisi', 'egp': 'emang gue pikirin', 'eke': 'aku', 'elu': 'kamu', 'emg': 'memang', 'emangnya': 'memangnya', 'emng': 'memang', 'endak': 'tidak', 'engk': 'tidak', 'engga': 'tidak', 'enggak': 'tidak', 'envy': 'iri', 'ex': 'mantan', 'fax': 'facsimile', 'fifo': 'first in first out', 'folbek': 'follow back', 'fyi': 'sebagai informasi', 'ga': 'tidak', 'gadikasih': 'tidak dikasih', 'gak': 'tidak', 'gaada': 'tidak ada', 'gag': 'tidak', 'gaje': 'tidak jelas', 'gajelas': 'tidak jelas', 'gak papa': 'tidak apa-apa', 'gaapa': 'tidak apa-apa', 'gan': 'juragan', 'gaptek': 'gagap teknologi', 'gatek': 'gagap teknologi', 'gawe': 'kerja', 'gbs': 'tidak bisa', 'gda': 'tidak ada', 'gebetan': 'orang yang disuka', 'geje': 'tidak jelas', 'gepeng': 'gelandangan dan pengemis', 'ghiy': 'lagi', 'gile': 'gila', 'gimn': 'bagaimana', 'gimna': 'bagaimana', 'gimana': 'bagaimana', 'gino': 'gigi nongol', 'githu': 'gitu', 'gj': 'tidak jelas', 'gk': 'tidak', 'gmbr': 'gambar', 'gmn': 'bagaimana', 'gmna': 'bagaimana', 'gmana': 'bagaimana', 'gn': 'begini', 'gnti': 'ganti', 'goblok': 'bodoh', 'golput': 'golongan putih', 'gowes': 'mengayuh sepeda', 'gpny': 'tidak punya', 'gr': 'gede rasa', 'gretongan': 'gratisan', 'gtau': 'tidak tahu', 'gua': 'saya', 'guoblok': 'goblok', 'gw': 'saya', 'ha': 'tertawa', 'haha': 'tertawa', 'hallow': 'halo', 'hankam': 'pertahanan dan keamanan', 'hbs': 'habis', 'hehe': 'he', 'helo': 'halo', 'hey': 'hai', 'hlm': 'halaman', 'hny': 'hanya', 'hoax': 'isu bohong', 'hr': 'hari', 'hrg': 'harga', 'hrgnya': 'harganya', 'hrga': 'harga', 'hrus': 'harus', 'hubdar': 'perhubungan darat', 'huff': 'mengeluh', 'hum': 'rumah', 'humz': 'rumah', 'ilang': 'hilang', 'ilfil': 'tidak suka', 'imho': 'in my humble opinion', 'imoetz': 'imut', 'item': 'hitam', 'itungan': 'hitungan', 'iye': 'iya', 'ja': 'saja', 'jadiin': 'jadi', 'jaim': 'jaga image', 'jayus': 'tidak lucu', 'jdi': 'jadi', 'jem': 'jam', 'jga': 'juga', 'jgnkan': 'jangankan', 'jir': 'anjing', 'jln': 'jalan', 'jlk': 'jelek', 'jomblo': 'tidak punya pacar', 'jubir': 'juru bicara', 'jutek': 'galak', 'k': 'ke', 'kab': 'kabupaten', 'kabor': 'kabur', 'kacrut': 'kacau', 'kadiv': 'kepala divisi', 'kagak': 'tidak', 'kalo': 'kalau', 'kampret': 'sialan', 'kamtibmas': 'keamanan dan ketertiban masyarakat', 'kamuwh': 'kamu', 'kanwil': 'kantor wilayah', 'karna': 'karena', 'kasubbag': 'kepala subbagian', 'katrok': 'kampungan', 'kayanya': 'kayaknya', 'kbr': 'kabar', 'kdu': 'harus', 'kec': 'kecamatan', 'kejurnas': 'kejuaraan nasional', 'kekeuh': 'keras kepala', 'kel': 'kelurahan', 'kemaren': 'kemarin', 'kepengen': 'mau', 'kepingin': 'mau', 'kepsek': 'kepala sekolah', 'kesbang': 'kesatuan bangsa', 'kesra': 'kesejahteraan rakyat', 'ketrima': 'diterima', 'kgiatan': 'kegiatan', 'kibul': 'bohong', 'kimpoi': 'kawin', 'kl': 'kalau', 'kli': 'kali', 'klianz': 'kalian', 'kloter': 'kelompok terbang', 'klw': 'kalau', 'km': 'kamu', 'kmna': 'kemana', 'kmps': 'kampus', 'kmrn': 'kemarin', 'knal': 'kenal', 'knp': 'kenapa', 'kodya': 'kota madya', 'komdis': 'komisi disiplin', 'komsov': 'komunis sovyet', 'kongkow': 'kumpul bareng teman-teman', 'kopdar': 'kopi darat', 'korup': 'korupsi', 'kpn': 'kapan', 'krg': 'kurang', 'krenz': 'keren', 'krm': 'kirim', 'kt': 'kita', 'ktmu': 'ketemu', 'ktr': 'kantor', 'ku': 'aku', 'kuper': 'kurang pergaulan', 'kw': 'imitasi', 'kwalitas': 'kualitas', 'kya': 'seperti', 'kyk': 'seperti', 'la': 'lah', 'lam': 'salam', 'lamp': 'lampiran', 'lanud': 'landasan udara', 'latgab': 'latihan gabungan', 'lebay': 'berlebihan', 'leh': 'boleh', 'lelet': 'lambat', 'lemot': 'lambat', 'lgi': 'lagi', 'lgsg': 'langsung', 'lgsung': 'langsung', 'liat': 'lihat', 'litbang': 'penelitian dan pengembangan', 'lm': 'lama', 'lmyn': 'lumayan', 'lo': 'kamu', 'loe': 'kamu', 'lola': 'lambat berfikir', 'louph': 'cinta', 'low': 'kalau', 'lp': 'lupa', 'lsg': 'langsung', 'luber': 'langsung, umum, bebas, dan rahasia', 'luchuw': 'lucu', 'lum': 'belum', 'luthu': 'lucu', 'lwn': 'lawan', 'maacih': 'terima kasih', 'maap': 'maaf', 'mabal': 'bolos', 'macem': 'macam', 'macih': 'masih', 'maem': 'makan', 'magabut': 'makan gaji buta', 'maho': 'homo', 'mak jang': 'kaget', 'maksain': 'memaksa', 'malem': 'malam', 'mam': 'makan', 'mane': 'mana', 'maneh': 'kamu', 'maniez': 'manis', 'mao': 'mau', 'masukin': 'masukkan', 'mdelnya': 'modelnya', 'melu': 'ikut', 'mepet': 'dekat sekali', 'mgu': 'minggu', 'migas': 'minyak dan gas bumi', 'mikol': 'minuman beralkohol', 'miras': 'minuman keras', 'mlah': 'malah', 'mmg': 'memang', 'mn': 'mana', 'mngkn': 'mungkin', 'mngecewakan': 'mengecewakan', 'mo': 'mau', 'mokad': 'mati', 'moso': 'masa', 'mpe': 'sampai', 'msk': 'masuk', 'mslh': 'masalah', 'mt': 'makan teman', 'mubes': 'musyawarah besar', 'mulu': 'melulu', 'mumpung': 'selagi', 'munas': 'musyawarah nasional', 'muntaber': 'muntah dan berak', 'musti': 'mesti', 'muupz': 'maaf', 'mw': 'now watching', 'n': 'dan', 'nanam': 'menanam', 'nanya': 'bertanya', 'napa': 'kenapa', 'napi': 'narapidana', 'napza': 'narkotika, alkohol, psikotropika, dan zat adiktif ', 'narkoba': 'narkotika, psikotropika, dan obat terlarang', 'nasgor': 'nasi goreng', 'nda': 'tidak', 'ndiri': 'sendiri', 'ne': 'ini', 'nekolin': 'neokolonialisme', 'nembak': 'menyatakan cinta', 'ngabuburit': 'menunggu berbuka puasa', 'nga': 'tidak', 'ngk': 'tidak', 'ngak': 'tidak', 'ngaku': 'mengaku', 'ngambil': 'mengambil', 'nganggur': 'tidak punya pekerjaan', 'ngapah': 'kenapa', 'ngaret': 'terlambat', 'ngasih': 'memberikan', 'ngebandel': 'berbuat bandel', 'ngegosip': 'bergosip', 'ngeklaim': 'mengklaim', 'ngeksis': 'menjadi eksis', 'ngeles': 'berkilah', 'ngelidur': 'menggigau', 'ngerampok': 'merampok', 'ngga': 'tidak', 'nggada': 'tidak ada', 'ngibul': 'berbohong', 'ngiler': 'mau', 'ngiri': 'iri', 'ngisiin': 'mengisikan', 'ngmng': 'bicara', 'ngomong': 'bicara', 'ngubek2': 'mencari-cari', 'ngurus': 'mengurus', 'nie': 'ini', 'nih': 'ini', 'niyh': 'nih', 'nmr': 'nomor', 'nnt': 'nanti', 'nntn': 'nonton', 'nobar': 'nonton bareng', 'np': 'now playing', 'ntar': 'nanti', 'ntn': 'nonton', 'numpuk': 'bertumpuk', 'nutupin': 'menutupi', 'nyari': 'mencari', 'nyekar': 'menyekar', 'nyicil': 'mencicil', 'nyoblos': 'mencoblos', 'nyokap': 'ibu', 'ogah': 'tidak mau', 'ol': 'online', 'ongkir': 'ongkos kirim', 'oot': 'out of topic', 'org2': 'orang-orang', 'ortu': 'orang tua', 'otda': 'otonomi daerah', 'otw': 'on the way, sedang di jalan', 'pacal': 'pacar', 'padhal': 'padahal', 'padahl': 'padahal', 'pake': 'pakai', 'pala': 'kepala', 'pansus': 'panitia khusus', 'parpol': 'partai politik', 'pasutri': 'pasangan suami istri', 'pd': 'pada', 'pdhl': 'padahal', 'pdahal': 'padahal', 'pede': 'percaya diri', 'pelatnas': 'pemusatan latihan nasional', 'pemda': 'pemerintah daerah', 'pemkot': 'pemerintah kota', 'pemred': 'pemimpin redaksi', 'penjas': 'pendidikan jasmani', 'perda': 'peraturan daerah', 'perhatiin': 'perhatikan', 'pesen': 'pesan', 'pesenan': 'pesanan', 'pgang': 'pegang', 'pi': 'tapi', 'pilkada': 'pemilihan kepala daerah', 'pisan': 'sangat', 'pk': 'penjahat kelamin', 'pke': 'pakai', 'plg': 'paling', 'pmrnth': 'pemerintah', 'polantas': 'polisi lalu lintas', 'ponpes': 'pondok pesantren', 'pp': 'pulang pergi', 'prg': 'pergi', 'prnh': 'pernah', 'psen': 'pesan', 'pst': 'pasti', 'pswt': 'pesawat', 'pw': 'posisi nyaman', 'qmu': 'kamu', 'rakor': 'rapat koordinasi', 'ranmor': 'kendaraan bermotor', 'rapih': 'rapi', 're': 'reply', 'ref': 'referensi', 'rehab': 'rehabilitasi', 'rempong': 'sulit', 'repp': 'balas', 'restik': 'reserse narkotika', 'rhs': 'rahasia', 'rmh': 'rumah', 'ru': 'baru', 'ruko': 'rumah toko', 'rusunawa': 'rumah susun sewa', 'ruz': 'terus', 'saia': 'saya', 'salting': 'salah tingkah', 'sampe': 'sampai', 'sampek': 'sampai', 'samsek': 'sama sekali', 'sapose': 'siapa', 'satpam': 'satuan pengamanan', 'sbb': 'sebagai berikut', 'sbh': 'sebuah', 'sblh': 'sebelah', 'sblm': 'sebelum', 'sbnrnya': 'sebenarnya', 'sbnrny': 'sebenarnya', 'scr': 'secara', 'sdg': 'sedang', 'sdgkn': 'sedangkan', 'sdh': 'sudah', 'sdkt': 'sedikit', 'se7': 'setuju', 'sebelas dua belas': 'mirip', 'sembako': 'sembilan bahan pokok', 'sempet': 'sempat', 'sendratari': 'seni drama tari', 'sgt': 'sangat', 'sgtu': 'segitu', 'shg': 'sehingga', 'siech': 'sih', 'sikon': 'situasi dan kondisi', 'sinetron': 'sinema elektronik', 'siramin': 'siramkan', 'sj': 'saja', 'sja': 'saja', 'skali': 'sekali', 'skalian': 'sekalian', 'sklh': 'sekolah', 'skrg': 'sekarang', 'skrng': 'sekarang', 'skrang': 'sekarang', 'skt': 'sakit', 'slesai': 'selesai', 'slh': 'salah', 'sll': 'selalu', 'sllu': 'selalu', 'slalu': 'selalu', 'slma': 'selama', 'slama': 'selama', 'slsai': 'selesai', 'sm': 'sama', 'smga': 'semoga', 'smoga': 'semoga', 'smpai': 'sampai', 'smpe': 'sampai', 'smpenya': 'sampainya', 'smpek': 'sampai', 'smpt': 'sempat', 'smw': 'semua', 'sndiri': 'sendiri', 'soljum': 'sholat jumat', 'songong': 'sombong', 'sory': 'maaf', 'sosek': 'sosial-ekonomi', 'sotoy': 'sok tahu', 'spa': 'siapa', 'spatu': 'sepatu', 'sppa': 'siapa', 'sperti': 'seperti', 'spt': 'seperti', 'sptnya': 'sepertinya', 'srtfkt': 'sertifikat', 'stiap': 'setiap', 'stlh': 'setelah', 'suk': 'masuk', 'sumpek': 'sempit', 'swara': 'suara', 'sya': 'saya', 'syg': 'sayang', 't4': 'tempat', 'tajir': 'kaya', 'tau': 'tahu', 'taw': 'tahu', 'td': 'tadi', 'tdk': 'tidak', 'teh': 'kakak perempuan', 'telat': 'terlambat', 'telmi': 'telat berpikir', 'temen': 'teman', 'tengil': 'menyebalkan', 'tepar': 'terkapar', 'tggu': 'tunggu', 'tgu': 'tunggu', 'thankz': 'terima kasih', 'thn': 'tahun', 'thnks': 'terima kasih', 'tilang': 'bukti pelanggaran', 'tipiwan': 'TvOne', 'tko': 'toko', 'tks': 'terima kasih', 'tlg': 'tolong', 'tlp': 'telepon', 'tls': 'tulis', 'tmbah': 'tambah', 'tmen2': 'teman-teman', 'tmpah': 'tumpah', 'tmpt': 'tempat', 'tngu': 'tunggu', 'tny': 'tanya', 'tnyta': 'ternyata', 'tokai': 'tai', 'toserba': 'toko serba ada', 'tpi': 'tapi', 'trdhulu': 'terdahulu', 'trima': 'terima kasih', 'trm': 'terima', 'trmksh': 'terima kasih', 'trs': 'terus', 'trus': 'terus', 'trutama': 'terutama', 'trnyta': 'ternyata', 'trpks': 'terpaksa', 'ts': 'penulis', 'tsb': 'tersebut', 'tst': 'tahu sama tahu', 'ttg': 'tentang', 'ttp': 'tetap', 'tuch': 'tuh', 'tuir': 'tua', 'tw': 'tahu', 'u': 'kamu', 'ud': 'sudah', 'udh': 'sudah', 'uda': 'sudah', 'udah': 'sudah', 'ujg': 'ujung', 'uk': 'ukuran', 'ul': 'ulangan', 'unyu': 'lucu', 'uplot': 'unggah', 'urang': 'saya', 'usah': 'perlu', 'utk': 'untuk', 'valas': 'valuta asing', 'w/': 'dengan', 'wadir': 'wakil direktur', 'wamil': 'wajib militer', 'warkop': 'warung kopi', 'warteg': 'warung tegal', 'wat': 'buat', 'wkt': 'waktu', 'wtf': 'what the fuck', 'xixixi': 'tertawa', 'ya': 'iya', 'yap': 'iya', 'yaudah': 'ya sudah', 'yawdah': 'ya sudah', 'yg': 'yang', 'yl': 'yang lain', 'yo': 'iya', 'yowes': 'ya sudah', 'yup': 'iya', '7an': 'tujuan', 'ababil': 'abg labil', 'acc': 'accord', 'adlah': 'adalah', 'adoh': 'aduh', 'aha': 'tertawa', 'aing': 'saya', 'aja': 'saja', 'aje': 'saja', 'ajj': 'saja', 'aka': 'dikenal juga sebagai', 'akko': 'aku', 'akku': 'aku', 'akyu': 'aku', 'aljasa': 'asal jadi saja', 'ama': 'sama', 'ambl': 'ambil', 'anjir': 'anjing', 'ank': 'anak', 'ap': 'apa', 'apaan': 'apa', 'ape': 'apa', 'aplot': 'unggah', 'apva': 'apa', 'aqu': 'aku', 'asap': 'sesegera mungkin', 'aseek': 'asyik', 'asek': 'asyik', 'aseknya': 'asyiknya', 'asoy': 'asyik', 'astrojim': 'astagfirullahaladzim', 'ath': 'kalau begitu', 'atuh': 'kalau begitu', 'ava': 'avatar', 'aws': 'awas', 'ayang': 'sayang', 'ayok': 'ayo', 'bacot': 'banyak bicara', 'bales': 'balas', 'bangdes': 'pembangunan desa', 'bangkotan': 'tua', 'banpres': 'bantuan presiden', 'bansarkas': 'bantuan sarana kesehatan', 'bazis': 'badan amal, zakat, infak, dan sedekah', 'bcoz': 'karena', 'beb': 'sayang', 'bejibun': 'banyak', 'belom': 'belum', 'bener': 'benar', 'ber2': 'berdua', 'berdikari': 'berdiri di atas kaki sendiri', 'bet': 'banget', 'beti': 'beda tipis', 'beut': 'banget', 'bgd': 'banget', 'bgs': 'bagus', 'bhubu': 'tidur', 'bimbuluh': 'bimbingan dan penyuluhan', 'bisi': 'kalau-kalau', 'bkn': 'bukan', 'bl': 'beli', 'blg': 'bilang', 'blgnya': 'bilangnya', 'blm': 'belum', 'bls': 'balas', 'bnchi': 'benci', 'bngung': 'bingung', 'bnyak': 'banyak', 'bnyk': 'banyak', 'bohay': 'badan aduhai', 'bokep': 'porno', 'bokin': 'pacar', 'bole': 'boleh', 'bolot': 'bodoh', 'bonyok': 'ayah ibu', 'bpk': 'bapak', 'brb': 'segera kembali', 'brng': 'barang', 'brngkt': 'berangkat', 'brp': 'berapa', 'brrti': 'berarti', 'brur': 'saudara laki-laki', 'bsa': 'bisa', 'bsk': 'besok', 'bu_bu': 'tidur', 'bubarin': 'bubarkan', 'buber': 'buka bersama', 'bujubune': 'luar biasa', 'buser': 'buru sergap', 'bwhn': 'bawahan', 'byar': 'bayar', 'byr': 'bayar', 'c8': 'chat', 'cabut': 'pergi', 'caem': 'cakep', 'cama-cama': 'sama-sama', 'cangcut': 'celana dalam', 'cape': 'capek', 'caur': 'jelek', 'cekak': 'tidak ada uang', 'cekidot': 'coba lihat', 'cemplungin': 'cemplungkan', 'ceper': 'pendek', 'ceu': 'kakak perempuan', 'cewe': 'cewek', 'cibuk': 'sibuk', 'cin': 'cinta', 'ciye': 'cie', 'ckck': 'ck', 'clbk': 'cinta lama bersemi kembali', 'cmpr': 'campur', 'cnenk': 'senang', 'congor': 'mulut', 'cow': 'cowok', 'coz': 'karena', 'cpa': 'siapa', 'gokil': 'gila', 'gombal': 'suka merayu', 'gpl': 'tidak pakai lama', 'gpp': 'tidak apa-apa', 'gretong': 'gratis', 'gt': 'begitu', 'gtu': 'gitu', 'gtw': 'tidak tahu', 'gue': 'saya', 'guys': 'teman-teman', 'gws': 'cepat sembuh', 'haghaghag': 'tertawa', 'hakhak': 'tertawa', 'handak': 'bahan peledak', 'hansip': 'pertahanan sipil', 'hellow': 'halo', 'helow': 'halo', 'hi': 'hai', 'hlng': 'hilang', 'hnya': 'hanya', 'houm': 'rumah', 'hrs': 'harus', 'hubad': 'hubungan angkatan darat', 'hubla': 'perhubungan laut', 'huft': 'mengeluh', 'humas': 'hubungan masyarakat', 'idk': 'saya tidak tahu', 'ilfeel': 'tidak suka', 'imba': 'jago sekali', 'imoet': 'imut', 'info': 'informasi', 'itung': 'hitung', 'isengin': 'bercanda', 'iyala': 'iya lah', 'iyo': 'iya', 'jablay': 'jarang dibelai', 'jadul': 'jaman dulu', 'jancuk': 'anjing', 'jd': 'jadi', 'jngn': 'jangan', 'jdikan': 'jadikan', 'jg': 'juga', 'jgn': 'jangan', 'jijay': 'jijik', 'jkt': 'jakarta', 'jnj': 'janji', 'jth': 'jatuh', 'jurdil': 'jujur adil', 'jwb': 'jawab', 'ka': 'kakak', 'kabag': 'kepala bagian', 'kacian': 'kasihan', 'kadit': 'kepala direktorat', 'kaga': 'tidak', 'kaka': 'kakak', 'kamtib': 'keamanan dan ketertiban', 'kamuh': 'kamu', 'kamyu': 'kamu', 'kapt': 'kapten', 'kasat': 'kepala satuan', 'kasubbid': 'kepala subbidang', 'kau': 'kamu', 'kbar': 'kabar', 'kcil': 'kecil', 'kcian': 'kasihan', 'keburu': 'terlanjur', 'kedubes': 'kedutaan besar', 'kek': 'seperti', 'keknya': 'kayaknya', 'keliatan': 'kelihatan', 'keneh': 'masih', 'kepikiran': 'terpikirkan', 'kepo': 'mau tahu urusan orang', 'kere': 'tidak punya uang', 'kesian': 'kasihan', 'kasi': 'kasih', 'ketauan': 'ketahuan', 'keukeuh': 'keras kepala', 'khan': 'kan', 'kibus': 'kaki busuk', 'kk': 'kakak', 'klian': 'kalian', 'klu': 'kalau', 'kluar': 'keluar', 'klo': 'kalau', 'kluarga': 'keluarga', 'klwrga': 'keluarga', 'kmari': 'kemari', 'kmpus': 'kampus', 'kn': 'kan', 'knl': 'kenal', 'knpa': 'kenapa', 'kog': 'kok', 'kompi': 'komputer', 'komtiong': 'komunis Tiongkok', 'konjen': 'konsulat jenderal', 'koq': 'kok', 'kpd': 'kepada', 'kptsan': 'keputusan', 'krik': 'garing', 'krn': 'karena', 'krna': 'karena', 'ksh': 'kasih', 'ksih': 'kasih', 'ktauan': 'ketahuan', 'ktny': 'katanya', 'kudu': 'harus', 'kuq': 'kok', 'ky': 'seperti', 'kykny': 'kayanya', 'laka': 'kecelakaan', 'lambreta': 'lambat', 'lansia': 'lanjut usia', 'lapas': 'lembaga pemasyarakatan', 'lptop': 'laptop', 'lptp': 'laptop', 'lbur': 'libur', 'lekong': 'laki-laki', 'lg': 'lagi', 'lgkp': 'lengkap', 'lht': 'lihat', 'linmas': 'perlindungan masyarakat', 'lmyan': 'lumayan', 'lngkp': 'lengkap', 'lngsung': 'langsung', 'loch': 'loh', 'lol': 'tertawa', 'lom': 'belum', 'loupz': 'cinta', 'lowh': 'kamu', 'lu': 'kamu', 'luchu': 'lucu', 'luff': 'cinta', 'luph': 'cinta', 'lw': 'kamu', 'lwt': 'lewat', 'maaciw': 'terima kasih', 'mabes': 'markas besar', 'macem-macem': 'macam-macam', 'madesu': 'masa depan suram', 'maen': 'main', 'mahatma': 'maju sehat bersama', 'mak': 'ibu', 'makasih': 'terima kasih', 'malah': 'bahkan', 'malu2in': 'memalukan', 'mamz': 'makan', 'manies': 'manis', 'mantep': 'mantap', 'mantul': 'mantap betul', 'markus': 'makelar kasus', 'mba': 'mbak', 'mending': 'lebih baik', 'mgkn': 'mungkin', 'mhn': 'mohon', 'mhon': 'mohon', 'miker': 'minuman keras', 'milis': 'mailing list', 'mksd': 'maksud', 'mksi': 'terima kasih', 'mls': 'malas', 'mnt': 'minta', 'mntp': 'mantap', 'moga': 'semoga', 'moge': 'motor gede', 'mokat': 'mati', 'mosok': 'masa', 'msh': 'masih', 'mskpn': 'meskipun', 'msng2': 'masing-masing', 'muahal': 'mahal', 'muker': 'musyawarah kerja', 'mumet': 'pusing', 'muna': 'munafik', 'munaslub': 'musyawarah nasional luar biasa', 'musda': 'musyawarah daerah', 'muup': 'maaf', 'muuv': 'maaf', 'nal': 'kenal', 'nangis': 'menangis', 'naon': 'apa', 'napol': 'narapidana politik', 'naq': 'anak', 'narsis': 'bangga pada diri sendiri', 'nax': 'anak', 'ndak': 'tidak', 'ndut': 'gendut', 'nekolim': 'neokolonialisme', 'nelfon': 'menelepon', 'ngabis2in': 'menghabiskan', 'ngakak': 'tertawa', 'ngambek': 'marah', 'ngampus': 'pergi ke kampus', 'ngantri': 'mengantri', 'ngapain': 'sedang apa', 'ngaruh': 'berpengaruh', 'ngawur': 'berbicara sembarangan', 'ngeceng': 'kumpul bareng-bareng', 'ngeh': 'sadar', 'ngekos': 'tinggal di kos', 'ngelamar': 'melamar', 'ngeliat': 'melihat', 'ngemeng': 'bicara terus-terusan', 'ngerti': 'mengerti', 'nggak': 'tidak', 'ngikut': 'ikut', 'nginep': 'menginap', 'ngisi': 'mengisi', 'ngmg': 'bicara', 'ngocol': 'lucu', 'ngomongin': 'membicarakan', 'ngumpul': 'berkumpul', 'ni': 'ini', 'nyasar': 'tersesat', 'nyariin': 'mencari', 'nyiapin': 'mempersiapkan', 'nyiram': 'menyiram', 'nyok': 'ayo', 'o/': 'oleh', 'ok': 'ok', 'priksa': 'periksa', 'pro': 'profesional', 'psn': 'pesan', 'psti': 'pasti', 'puanas': 'panas', 'qc': 'quality check', 'qmo': 'kamu', 'qt': 'kita', 'rame': 'ramai', 'raskin': 'rakyat miskin', 'red': 'redaksi', 'reg': 'register', 'rejeki': 'rezeki', 'renstra': 'rencana strategis', 'reskrim': 'reserse kriminal', 'sni': 'sini', 'somse': 'sombong sekali', 'sorry': 'maaf', 'sosbud': 'sosial-budaya', 'sospol': 'sosial-politik', 'sowry': 'maaf', 'spd': 'sepeda', 'sprti': 'seperti', 'spy': 'supaya', 'spya': 'supaya', 'stelah': 'setelah', 'subbag': 'subbagian', 'sudh': 'sudah', 'sumbangin': 'sumbangkan', 'sy': 'saya', 'syp': 'siapa', 'tabanas': 'tabungan pembangunan nasional', 'tar': 'nanti', 'taun': 'tahun', 'tawh': 'tahu', 'tdi': 'tadi', 'te2p': 'tetap', 'tekor': 'rugi', 'telkom': 'telekomunikasi', 'telp': 'telepon', 'temen2': 'teman-teman', 'tengok': 'menjenguk', 'terbitin': 'terbitkan', 'tgl': 'tanggal', 'thsx': 'terima kasih', 'thanks': 'terima kasih', 'thd': 'terhadap', 'thx': 'terima kasih', 'tipi': 'TV', 'tkg': 'tukang', 'tll': 'terlalu', 'tlpn': 'telepon', 'tman': 'teman', 'tmbh': 'tambah', 'tmn2': 'teman-teman', 'tmph': 'tumpah', 'tnda': 'tanda', 'tnh': 'tanah', 'togel': 'toto gelap', 'tp': 'tapi', 'tq': 'terima kasih', 'trgntg': 'tergantung', 'trims': 'terima kasih', 'cb': 'coba', 'y': 'ya', 'munfik': 'munafik', 'reklamuk': 'reklamasi', 'sma': 'sama', 'tren': 'trend', 'ngehe': 'kesal', 'mz': 'mas', 'analisise': 'analisis', 'sadaar': 'sadar', 'sept': 'september', 'nmenarik': 'menarik', 'zonk': 'bodoh', 'rights': 'benar', 'simiskin': 'miskin', 'ngumpet': 'sembunyi', 'hardcore': 'keras', 'akhirx': 'akhirnya', 'solve': 'solusi', 'watuk': 'batuk', 'ngebully': 'intimidasi', 'masy': 'masyarakat', 'still': 'masih', 'tauk': 'tahu', 'mbual': 'bual', 'tioghoa': 'tionghoa', 'ngentotin': 'senggama', 'kentot': 'senggama', 'faktakta': 'fakta', 'sohib': 'teman', 'rubahnn': 'rubah', 'trlu': 'terlalu', 'trllu': 'terlalu', 'trlalu': 'terlalu', 'nyela': 'cela', 'heters': 'pembenci', 'nyembah': 'sembah', 'most': 'paling', 'ikon': 'lambang', 'light': 'terang', 'pndukung': 'pendukung', 'pngiriman': 'pengiriman', 'setting': 'atur', 'seting': 'akting', 'next': 'lanjut', 'waspadalah': 'waspada', 'gantengsaya': 'ganteng', 'parte': 'partai', 'nyerang': 'serang', 'nipu': 'tipu', 'ktipu': 'tipu', 'jentelmen': 'berani', 'buangbuang': 'buang', 'tsangka': 'tersangka', 'kurng': 'kurang', 'ista': 'nista', 'less': 'kurang', 'koar': 'teriak', 'paranoid': 'takut', 'problem': 'masalah', 'tahi': 'kotoran', 'tirani': 'tiran', 'tilep': 'tilap', 'happy': 'bahagia', 'tak': 'tidak', 'penertiban': 'tertib', 'uasai': 'kuasa', 'mnolak': 'tolak', 'trending': 'trend', 'taik': 'tahi', 'wkwkkw': 'tertawa', 'ahokncc': 'ahok', 'istaa': 'nista', 'benarjujur': 'jujur', 'mgkin': 'mungkin'}\n",
      "paket internet unlimited murah harga konter\n",
      "                                               Ulasan  \\\n",
      "0   Barang sampai dengan baik terima kasih kurir y...   \n",
      "1   Udah ke sekian kali order ditoko ini biasanya ...   \n",
      "2   Sesuai pesanan moga jadi langganan terus cepet...   \n",
      "3   Sampai tepat waktu wlw beli nya jauh toko nya ...   \n",
      "4                  Belum mampu ukur air asin akuarium   \n",
      "..                                                ...   \n",
      "72  Lebih dari kata ekspektasi ini mah bagus bange...   \n",
      "73                          Baru nyoba,mudah2an cocok   \n",
      "74                                     pesanan sesuai   \n",
      "75                                            Manfaat   \n",
      "76                                                 Ok   \n",
      "\n",
      "                                  Ulasan_preprocessed  \n",
      "0            barang baik terima kasih kurir iya ramah  \n",
      "1   sekian kali order toko order pupuk vegetatifge...  \n",
      "2            sesuai pesan moga langgan cepat deh redi  \n",
      "3   wlw beli nya toko nya amanah kurir langgan sukses  \n",
      "4                              ukur air asin akuarium  \n",
      "..                                                ...  \n",
      "72  ekspektasi mah bagus banget puas pokok rekomen...  \n",
      "73                               nyoba mudah2an cocok  \n",
      "74                                       pesan sesuai  \n",
      "75                                            manfaat  \n",
      "76                                                 ok  \n",
      "\n",
      "[77 rows x 2 columns]\n",
      "Word frequencies saved to 'classification/word_frequencies.csv'\n"
     ]
    },
    {
     "name": "stderr",
     "output_type": "stream",
     "text": [
      "[nltk_data] Downloading package punkt to\n",
      "[nltk_data]     /Users/muhammaddzulfiqar/nltk_data...\n",
      "[nltk_data]   Package punkt is already up-to-date!\n"
     ]
    },
    {
     "name": "stdout",
     "output_type": "stream",
     "text": [
      "Kata ditemukan dalam lexicon dengan skor: -1\n",
      "kata:  ok\n",
      "nilai lexicon:  1\n",
      "score negatif:  0.0\n",
      "score netral:  0.0\n",
      "score positif:  1.0\n",
      "score compound:  0.25\n",
      "{'neg': 0.0, 'neu': 0.0, 'pos': 1.0, 'compound': 0.25}\n",
      "kata:  ok\n",
      "nilai lexicon:  1\n",
      "score negatif:  0.0\n",
      "score netral:  0.0\n",
      "score positif:  1.0\n",
      "score compound:  0.25\n",
      "{'neg': 0.0, 'neu': 0.0, 'pos': 1.0, 'compound': 0.25}\n",
      "Positive\n",
      "\n",
      "✅ Preprocessing data berhasil dilakukan\n"
     ]
    }
   ],
   "source": [
    "from classification.preprocessing import classification_preprocessing\n",
    "\n",
    "preprocessing = classification_preprocessing(output_path, df_ulasan, df_produk)\n",
    "print(f\"\\n✅ Preprocessing data berhasil dilakukan\")"
   ]
  },
  {
   "cell_type": "code",
   "execution_count": 9,
   "id": "405668fa",
   "metadata": {},
   "outputs": [
    {
     "name": "stdout",
     "output_type": "stream",
     "text": [
      "Akurasi: 0.0\n",
      "              precision    recall  f1-score   support\n",
      "\n",
      "      Netral       0.00      0.00      0.00       1.0\n",
      "     Positif       0.00      0.00      0.00       0.0\n",
      "     Negatif       0.00      0.00      0.00       0.0\n",
      "\n",
      "    accuracy                           0.00       1.0\n",
      "   macro avg       0.00      0.00      0.00       1.0\n",
      "weighted avg       0.00      0.00      0.00       1.0\n",
      "\n",
      "    Unnamed: 0.1  Unnamed: 0  \\\n",
      "0              0           0   \n",
      "1              1           1   \n",
      "2              2           2   \n",
      "3              3           3   \n",
      "4              4           4   \n",
      "..           ...         ...   \n",
      "72            72          72   \n",
      "73            73          73   \n",
      "74            74          74   \n",
      "75            75          75   \n",
      "76            76          76   \n",
      "\n",
      "                                               Produk  \\\n",
      "0   Tapetool Hand Tying Machine Alat Pengikat Lanj...   \n",
      "1         PUPUK CAIR LIQUINOX START B1 ORIGINAL 470ml   \n",
      "2   Pupuk NPK PAK TANI Mutiara Biru 16-16-16 Penyu...   \n",
      "3                     Pupuk Meroke SOP - Kemasan 1 kg   \n",
      "4   TDS Meter Digital - Alat Ukur PPM Air & Hidrop...   \n",
      "..                                                ...   \n",
      "72  Tapetool Hand Tying Machine Alat Pengikat Lanj...   \n",
      "73          Paket EM4 PETERNAKAN 1 Liter + MOLASE 1kg   \n",
      "74           Rockwool CULTILENE 1/4 Slab 75x150x250mm   \n",
      "75  Pupuk NPK 15-9-20 Mutiara Grower MEROKE Repack...   \n",
      "76  Impraboard Tutup Bak Baki Hidroponik 9 Lubang ...   \n",
      "\n",
      "                                               Ulasan Perusahaan  \\\n",
      "0   Barang sampai dengan baik terima kasih kurir y...   Netafarm   \n",
      "1   Udah ke sekian kali order ditoko ini biasanya ...   Netafarm   \n",
      "2   Sesuai pesanan moga jadi langganan terus cepet...   Netafarm   \n",
      "3   Sampai tepat waktu wlw beli nya jauh toko nya ...   Netafarm   \n",
      "4                  Belum mampu ukur air asin akuarium   Netafarm   \n",
      "..                                                ...        ...   \n",
      "72  Lebih dari kata ekspektasi ini mah bagus bange...   Netafarm   \n",
      "73                          Baru nyoba,mudah2an cocok   Netafarm   \n",
      "74                                     pesanan sesuai   Netafarm   \n",
      "75                                            Manfaat   Netafarm   \n",
      "76                                                 Ok   Netafarm   \n",
      "\n",
      "                                  Ulasan_preprocessed  label_sentiment  \n",
      "0            barang baik terima kasih kurir iya ramah                1  \n",
      "1   sekian kali order toko order pupuk vegetatifge...                1  \n",
      "2            sesuai pesan moga langgan cepat deh redi                1  \n",
      "3   wlw beli nya toko nya amanah kurir langgan sukses                1  \n",
      "4                              ukur air asin akuarium                0  \n",
      "..                                                ...              ...  \n",
      "72  ekspektasi mah bagus banget puas pokok rekomen...                1  \n",
      "73                               nyoba mudah2an cocok                1  \n",
      "74                                       pesan sesuai                1  \n",
      "75                                            manfaat                1  \n",
      "76                                                 ok                1  \n",
      "\n",
      "[77 rows x 7 columns]\n",
      "label_sentiment\n",
      "1    62\n",
      "0    14\n",
      "2     1\n",
      "Name: count, dtype: int64\n",
      "Akurasi: 0.5\n",
      "              precision    recall  f1-score   support\n",
      "\n",
      "      Netral       1.00      0.20      0.33         5\n",
      "     Positif       0.43      1.00      0.60         3\n",
      "     Negatif       0.00      0.00      0.00         0\n",
      "\n",
      "    accuracy                           0.50         8\n",
      "   macro avg       0.48      0.40      0.31         8\n",
      "weighted avg       0.79      0.50      0.43         8\n",
      "\n",
      "Akurasi: 0.5\n",
      "              precision    recall  f1-score   support\n",
      "\n",
      "      Netral       1.00      0.20      0.33         5\n",
      "     Positif       0.43      1.00      0.60         3\n",
      "     Negatif       0.00      0.00      0.00         0\n",
      "\n",
      "    accuracy                           0.50         8\n",
      "   macro avg       0.48      0.40      0.31         8\n",
      "weighted avg       0.79      0.50      0.43         8\n",
      "\n",
      "[1]\n",
      "Positif\n"
     ]
    },
    {
     "name": "stderr",
     "output_type": "stream",
     "text": [
      "[nltk_data] Downloading package stopwords to\n",
      "[nltk_data]     /Users/muhammaddzulfiqar/nltk_data...\n",
      "[nltk_data]   Package stopwords is already up-to-date!\n",
      "[nltk_data] Downloading package punkt to\n",
      "[nltk_data]     /Users/muhammaddzulfiqar/nltk_data...\n",
      "[nltk_data]   Package punkt is already up-to-date!\n"
     ]
    },
    {
     "name": "stdout",
     "output_type": "stream",
     "text": [
      "Logistic Regression\n",
      "Akurasi: 0.5\n",
      "              precision    recall  f1-score   support\n",
      "\n",
      "      Netral       1.00      0.20      0.33         5\n",
      "     Positif       0.43      1.00      0.60         3\n",
      "     Negatif       0.00      0.00      0.00         0\n",
      "\n",
      "    accuracy                           0.50         8\n",
      "   macro avg       0.48      0.40      0.31         8\n",
      "weighted avg       0.79      0.50      0.43         8\n",
      "\n",
      "\n",
      "Random Forest Classifier\n",
      "Akurasi: 1.0\n",
      "              precision    recall  f1-score   support\n",
      "\n",
      "      Netral       1.00      1.00      1.00         5\n",
      "     Positif       1.00      1.00      1.00         3\n",
      "     Negatif       0.00      0.00      0.00         0\n",
      "\n",
      "    accuracy                           1.00         8\n",
      "   macro avg       0.67      0.67      0.67         8\n",
      "weighted avg       1.00      1.00      1.00         8\n",
      "\n",
      "\n",
      "Naive Bayes Classifier\n",
      "Akurasi: 0.375\n",
      "              precision    recall  f1-score   support\n",
      "\n",
      "      Netral       0.00      0.00      0.00         5\n",
      "     Positif       0.38      1.00      0.55         3\n",
      "     Negatif       0.00      0.00      0.00         0\n",
      "\n",
      "    accuracy                           0.38         8\n",
      "   macro avg       0.12      0.33      0.18         8\n",
      "weighted avg       0.14      0.38      0.20         8\n",
      "\n",
      "\n",
      "K-Nearest Neighbors (KNN)\n",
      "Akurasi: 0.5\n",
      "              precision    recall  f1-score   support\n",
      "\n",
      "      Netral       1.00      0.20      0.33         5\n",
      "     Positif       0.43      1.00      0.60         3\n",
      "     Negatif       0.00      0.00      0.00         0\n",
      "\n",
      "    accuracy                           0.50         8\n",
      "   macro avg       0.48      0.40      0.31         8\n",
      "weighted avg       0.79      0.50      0.43         8\n",
      "\n",
      "    Unnamed: 0.1  Unnamed: 0  \\\n",
      "4              4           4   \n",
      "35            35          35   \n",
      "10            10          10   \n",
      "0              0           0   \n",
      "45            45          45   \n",
      "\n",
      "                                               Produk  \\\n",
      "4   TDS Meter Digital - Alat Ukur PPM Air & Hidrop...   \n",
      "35  Molase Tetes Tebu Murni untuk Peternakan, Peri...   \n",
      "10  Belerang Bubuk Halus Sulfur Powder Belerang Su...   \n",
      "0   Tapetool Hand Tying Machine Alat Pengikat Lanj...   \n",
      "45  Paket EM4 PERTANIAN 1 Liter + MOLASE 1kg Tanah...   \n",
      "\n",
      "                                               Ulasan Perusahaan  \\\n",
      "4                  Belum mampu ukur air asin akuarium   Netafarm   \n",
      "35               Sesuai pesanan datang dgn selamat 👍🏻   Netafarm   \n",
      "10                                         MANTAPPPPP   Netafarm   \n",
      "0   Barang sampai dengan baik terima kasih kurir y...   Netafarm   \n",
      "45                                                Vvv   Netafarm   \n",
      "\n",
      "                         Ulasan_preprocessed  label_sentiment  \\\n",
      "4                     ukur air asin akuarium                0   \n",
      "35                sesuai pesan selamat bagus                1   \n",
      "10                                mantappppp                0   \n",
      "0   barang baik terima kasih kurir iya ramah                1   \n",
      "45                                       vvv                0   \n",
      "\n",
      "    predicted_label_svm  predicted_label_log_reg  predicted_label_rf  \\\n",
      "4                     1                        1                   0   \n",
      "35                    1                        1                   1   \n",
      "10                    1                        1                   0   \n",
      "0                     1                        1                   1   \n",
      "45                    1                        1                   0   \n",
      "\n",
      "    predicted_label_nb  predicted_label_knn  \n",
      "4                    1                    1  \n",
      "35                   1                    1  \n",
      "10                   1                    1  \n",
      "0                    1                    1  \n",
      "45                   1                    1  \n",
      "\n",
      "✅ Klasifikasi data berhasil dilakukan\n"
     ]
    }
   ],
   "source": [
    "from classification.text_classification import textClassification\n",
    "classification = textClassification(output_path, preprocessing)\n",
    "print(f\"\\n✅ Klasifikasi data berhasil dilakukan\")"
   ]
  }
 ],
 "metadata": {
  "kernelspec": {
   "display_name": ".venv",
   "language": "python",
   "name": "python3"
  },
  "language_info": {
   "codemirror_mode": {
    "name": "ipython",
    "version": 3
   },
   "file_extension": ".py",
   "mimetype": "text/x-python",
   "name": "python",
   "nbconvert_exporter": "python",
   "pygments_lexer": "ipython3",
   "version": "3.9.6"
  }
 },
 "nbformat": 4,
 "nbformat_minor": 5
}
